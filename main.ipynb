{
 "cells": [
  {
   "cell_type": "markdown",
   "metadata": {},
   "source": [
    "##### Step 1 - Imports"
   ]
  },
  {
   "cell_type": "code",
   "execution_count": 1,
   "metadata": {},
   "outputs": [],
   "source": [
    "import requests\n",
    "import pandas"
   ]
  },
  {
   "cell_type": "markdown",
   "metadata": {},
   "source": [
    "##### Step 2 - Requests & CURL"
   ]
  },
  {
   "cell_type": "code",
   "execution_count": 2,
   "metadata": {},
   "outputs": [],
   "source": [
    "headers = {\n",
    "    \"Accept\": \"*/*\",\n",
    "    \"User-Agent\": \"Mozilla/5.0 (Windows NT 10.0; Win64; x64) AppleWebKit/537.36 (KHTML, like Gecko) Chrome/97.0.4692.71 Safari/537.36\"\n",
    "}\n",
    "\n",
    "params = (\n",
    "    ('ResultOrder', 'Popularity'),\n",
    "    ('CountryCode', 'RU'),\n",
    "    ('subjectId', '13'),\n",
    ")\n",
    "\n",
    "response = requests.get('https://www.ebooks.com/api/search/subject/', headers=headers, params=params)"
   ]
  },
  {
   "cell_type": "markdown",
   "metadata": {},
   "source": [
    "##### Step 3 - Check Status Code"
   ]
  },
  {
   "cell_type": "code",
   "execution_count": 3,
   "metadata": {},
   "outputs": [
    {
     "data": {
      "text/plain": [
       "<Response [200]>"
      ]
     },
     "execution_count": 3,
     "metadata": {},
     "output_type": "execute_result"
    }
   ],
   "source": [
    "response"
   ]
  },
  {
   "cell_type": "markdown",
   "metadata": {},
   "source": [
    "##### Step 4 - Create Json Object"
   ]
  },
  {
   "cell_type": "code",
   "execution_count": 4,
   "metadata": {},
   "outputs": [
    {
     "data": {
      "text/plain": [
       "{'search_term': None,\n",
       " 'start_record': 1,\n",
       " 'total_results': 51598,\n",
       " 'books': [{'id': 95729334,\n",
       "   'book_url': '/en-ru/book/95729334/designing-data-intensive-applications/martin-kleppmann/',\n",
       "   'image_url': 'https://image.ebooks.com/previews/095/095729/095729334/095729334-sml-1.jpg',\n",
       "   'image_alt_tag': 'Designing Data-Intensive Applications: The Big Ideas Behind Reliable, Scalable, and Maintainable Systems',\n",
       "   'title': 'Designing Data-Intensive Applications',\n",
       "   'edition': '',\n",
       "   'subtitle': 'The Big Ideas Behind Reliable, Scalable, and Maintainable Systems',\n",
       "   'authors': [{'author_name': 'Martin Kleppmann',\n",
       "     'author_url': '/en-ru/author/martin-kleppmann/1321307/'}],\n",
       "   'num_authors': 1,\n",
       "   'series': ' Series',\n",
       "   'series_number': '',\n",
       "   'has_series': False,\n",
       "   'series_url': '',\n",
       "   'publisher': \"O'Reilly Media\",\n",
       "   'publication_year': '2017',\n",
       "   'price': 'US$14.99',\n",
       "   'desktop_short_description': 'Data is at the center of many challenges in system design today. Difficult issues need to be figured out, such as scalability, consistency, reliability, efficiency, and maintainability. In addition, we have an overwhelming variety of tools, including relational databases, NoSQL datastores, stream or batch processors, and message brokers. What are...',\n",
       "   'mobile_short_description': 'Data is at the center of many challenges in system design today. Difficult issues need to be figured...',\n",
       "   'is_preorder': False,\n",
       "   'is_available': True,\n",
       "   'preorder_url': '/account/preorder/?bookId=95729334',\n",
       "   'add_to_cart_url': '/cart/add/95729334/',\n",
       "   'currency_symbol': 'US$',\n",
       "   'price_number': 14.99396928,\n",
       "   'on_sale_date': '2017-03-16T00:00:00'},\n",
       "  {'id': 210313783,\n",
       "   'book_url': '/en-ru/book/210313783/programming-rust/jim-blandy/',\n",
       "   'image_url': 'https://image.ebooks.com/previews/210/210313/210313783/210313783-sml-1.jpg',\n",
       "   'image_alt_tag': 'Programming Rust',\n",
       "   'title': 'Programming Rust',\n",
       "   'edition': ' (2nd ed.)',\n",
       "   'subtitle': '',\n",
       "   'authors': [{'author_name': 'Jim Blandy',\n",
       "     'author_url': '/en-ru/author/jim-blandy/94214791/'},\n",
       "    {'author_name': 'Jason Orendorff',\n",
       "     'author_url': '/en-ru/author/jason-orendorff/94214792/'}],\n",
       "   'num_authors': 3,\n",
       "   'series': ' Series',\n",
       "   'series_number': '',\n",
       "   'has_series': False,\n",
       "   'series_url': '',\n",
       "   'publisher': \"O'Reilly Media\",\n",
       "   'publication_year': '2021',\n",
       "   'price': 'US$22.40',\n",
       "   'desktop_short_description': \"Systems programming provides the foundation for the world's computation. Writing performance-sensitive code requires a programming language that puts programmers in control of how memory, processor time, and other system resources are used. The Rust systems programming language combines that control with a modern type system that catches broad...\",\n",
       "   'mobile_short_description': \"Systems programming provides the foundation for the world's computation. Writing...\",\n",
       "   'is_preorder': False,\n",
       "   'is_available': True,\n",
       "   'preorder_url': '/account/preorder/?bookId=210313783',\n",
       "   'add_to_cart_url': '/cart/add/210313783/',\n",
       "   'currency_symbol': 'US$',\n",
       "   'price_number': 22.40152128,\n",
       "   'on_sale_date': '2021-06-11T00:00:00'},\n",
       "  {'id': 95871448,\n",
       "   'book_url': '/en-ru/book/95871448/python-for-data-analysis/wes-mckinney/',\n",
       "   'image_url': 'https://image.ebooks.com/previews/095/095871/095871448/095871448-sml-1.jpg',\n",
       "   'image_alt_tag': 'Python for Data Analysis: Data Wrangling with Pandas, NumPy, and IPython',\n",
       "   'title': 'Python for Data Analysis',\n",
       "   'edition': ' (2nd ed.)',\n",
       "   'subtitle': 'Data Wrangling with Pandas, NumPy, and IPython',\n",
       "   'authors': [{'author_name': 'Wes McKinney',\n",
       "     'author_url': '/en-ru/author/wes-mckinney/513179/'}],\n",
       "   'num_authors': 1,\n",
       "   'series': ' Series',\n",
       "   'series_number': '',\n",
       "   'has_series': False,\n",
       "   'series_url': '',\n",
       "   'publisher': \"O'Reilly Media\",\n",
       "   'publication_year': '2017',\n",
       "   'price': 'US$18.79',\n",
       "   'desktop_short_description': 'Get complete instructions for manipulating, processing, cleaning, and crunching datasets in Python. Updated for Python 3.6, the second edition of this hands-on guide is packed with practical case studies that show you how to solve a broad set of data analysis problems effectively. You’ll learn the latest versions of pandas, NumPy, IPython, and...',\n",
       "   'mobile_short_description': 'Get complete instructions for manipulating, processing, cleaning, and crunching datasets in Python....',\n",
       "   'is_preorder': False,\n",
       "   'is_available': True,\n",
       "   'preorder_url': '/account/preorder/?bookId=95871448',\n",
       "   'add_to_cart_url': '/cart/add/95871448/',\n",
       "   'currency_symbol': 'US$',\n",
       "   'price_number': 18.78808128,\n",
       "   'on_sale_date': '2017-09-25T00:00:00'},\n",
       "  {'id': 209820951,\n",
       "   'book_url': '/en-ru/book/209820951/effective-typescript/dan-vanderkam/',\n",
       "   'image_url': 'https://image.ebooks.com/previews/209/209820/209820951/209820951-sml-1.jpg',\n",
       "   'image_alt_tag': 'Effective TypeScript: 62 Specific Ways to Improve Your TypeScript',\n",
       "   'title': 'Effective TypeScript',\n",
       "   'edition': '',\n",
       "   'subtitle': '62 Specific Ways to Improve Your TypeScript',\n",
       "   'authors': [{'author_name': 'Dan Vanderkam',\n",
       "     'author_url': '/en-ru/author/dan-vanderkam/208299957/'}],\n",
       "   'num_authors': 1,\n",
       "   'series': ' Series',\n",
       "   'series_number': '',\n",
       "   'has_series': False,\n",
       "   'series_url': '',\n",
       "   'publisher': \"O'Reilly Media\",\n",
       "   'publication_year': '2019',\n",
       "   'price': 'US$14.99',\n",
       "   'desktop_short_description': 'TypeScript is a typed superset of JavaScript with the potential to solve many of the headaches for which JavaScript is famous. But TypeScript has a learning curve of its own, and understanding how to use it effectively can take time. This book guides you through 62 specific ways to improve your use of TypeScript.  Author Dan Vanderkam, a principal...',\n",
       "   'mobile_short_description': 'TypeScript is a typed superset of JavaScript with the potential to solve many of the headaches for...',\n",
       "   'is_preorder': False,\n",
       "   'is_available': True,\n",
       "   'preorder_url': '/account/preorder/?bookId=209820951',\n",
       "   'add_to_cart_url': '/cart/add/209820951/',\n",
       "   'currency_symbol': 'US$',\n",
       "   'price_number': 14.99396928,\n",
       "   'on_sale_date': '2019-10-17T00:00:00'},\n",
       "  {'id': 209784911,\n",
       "   'book_url': '/en-ru/book/209784911/database-internals/alex-petrov/',\n",
       "   'image_url': 'https://image.ebooks.com/previews/209/209784/209784911/209784911-sml-1.jpg',\n",
       "   'image_alt_tag': 'Database Internals: A Deep Dive into How Distributed Data Systems Work',\n",
       "   'title': 'Database Internals',\n",
       "   'edition': '',\n",
       "   'subtitle': 'A Deep Dive into How Distributed Data Systems Work',\n",
       "   'authors': [{'author_name': 'Alex Petrov',\n",
       "     'author_url': '/en-ru/author/alex-petrov/208283562/'}],\n",
       "   'num_authors': 1,\n",
       "   'series': ' Series',\n",
       "   'series_number': '',\n",
       "   'has_series': False,\n",
       "   'series_url': '',\n",
       "   'publisher': \"O'Reilly Media\",\n",
       "   'publication_year': '2019',\n",
       "   'price': 'US$22.40',\n",
       "   'desktop_short_description': 'When it comes to choosing, using, and maintaining a database, understanding its internals is essential. But with so many distributed databases and tools available today, it’s often difficult to understand what each one offers and how they differ. With this practical guide, Alex Petrov guides developers through the concepts behind modern database...',\n",
       "   'mobile_short_description': 'When it comes to choosing, using, and maintaining a database, understanding its internals is...',\n",
       "   'is_preorder': False,\n",
       "   'is_available': True,\n",
       "   'preorder_url': '/account/preorder/?bookId=209784911',\n",
       "   'add_to_cart_url': '/cart/add/209784911/',\n",
       "   'currency_symbol': 'US$',\n",
       "   'price_number': 22.40152128,\n",
       "   'on_sale_date': '2019-09-13T00:00:00'},\n",
       "  {'id': 210338899,\n",
       "   'book_url': '/en-ru/book/210338899/building-microservices/sam-newman/',\n",
       "   'image_url': 'https://image.ebooks.com/previews/210/210338/210338899/210338899-sml-1.jpg',\n",
       "   'image_alt_tag': 'Building Microservices',\n",
       "   'title': 'Building Microservices',\n",
       "   'edition': ' (2nd ed.)',\n",
       "   'subtitle': '',\n",
       "   'authors': [{'author_name': 'Sam Newman',\n",
       "     'author_url': '/en-ru/author/sam-newman/748359/'}],\n",
       "   'num_authors': 1,\n",
       "   'series': ' Series',\n",
       "   'series_number': '',\n",
       "   'has_series': False,\n",
       "   'series_url': '',\n",
       "   'publisher': \"O'Reilly Media\",\n",
       "   'publication_year': '2021',\n",
       "   'price': 'US$22.40',\n",
       "   'desktop_short_description': 'As organizations shift from monolithic applications to smaller, self-contained microservices, distributed systems have become more fine-grained. But developing these new systems brings its own host of problems. This expanded second edition takes a holistic view of topics that you need to consider when building, managing, and scaling microservices...',\n",
       "   'mobile_short_description': 'As organizations shift from monolithic applications to smaller, self-contained microservices,...',\n",
       "   'is_preorder': False,\n",
       "   'is_available': True,\n",
       "   'preorder_url': '/account/preorder/?bookId=210338899',\n",
       "   'add_to_cart_url': '/cart/add/210338899/',\n",
       "   'currency_symbol': 'US$',\n",
       "   'price_number': 22.40152128,\n",
       "   'on_sale_date': '2021-07-24T00:00:00'},\n",
       "  {'id': 210239573,\n",
       "   'book_url': '/en-ru/book/210239573/python-for-excel/felix-zumstein/',\n",
       "   'image_url': 'https://image.ebooks.com/previews/210/210239/210239573/210239573-sml-1.jpg',\n",
       "   'image_alt_tag': 'Python for Excel',\n",
       "   'title': 'Python for Excel',\n",
       "   'edition': '',\n",
       "   'subtitle': '',\n",
       "   'authors': [{'author_name': 'Felix Zumstein',\n",
       "     'author_url': '/en-ru/author/felix-zumstein/208533140/'}],\n",
       "   'num_authors': 1,\n",
       "   'series': ' Series',\n",
       "   'series_number': '',\n",
       "   'has_series': False,\n",
       "   'series_url': '',\n",
       "   'publisher': \"O'Reilly Media\",\n",
       "   'publication_year': '2021',\n",
       "   'price': 'US$22.40',\n",
       "   'desktop_short_description': \"While Excel remains ubiquitous in the business world, recent Microsoft feedback forums are full of requests to include Python as an Excel scripting language. In fact, it's the top feature requested. What makes this combination so compelling? In this hands-on guide, Felix Zumstein--creator of xlwings, a popular open source package for automating...\",\n",
       "   'mobile_short_description': 'While Excel remains ubiquitous in the business world, recent Microsoft feedback forums are full of...',\n",
       "   'is_preorder': False,\n",
       "   'is_available': True,\n",
       "   'preorder_url': '/account/preorder/?bookId=210239573',\n",
       "   'add_to_cart_url': '/cart/add/210239573/',\n",
       "   'currency_symbol': 'US$',\n",
       "   'price_number': 22.40152128,\n",
       "   'on_sale_date': '2021-03-04T00:00:00'},\n",
       "  {'id': 210180129,\n",
       "   'book_url': '/en-ru/book/210180129/head-first-c/andrew-stellman/',\n",
       "   'image_url': 'https://image.ebooks.com/previews/210/210180/210180129/210180129-sml-1.jpg',\n",
       "   'image_alt_tag': 'Head First C#',\n",
       "   'title': 'Head First C#',\n",
       "   'edition': ' (4th ed.)',\n",
       "   'subtitle': '',\n",
       "   'authors': [{'author_name': 'Andrew Stellman',\n",
       "     'author_url': '/en-ru/author/andrew-stellman/182816/'},\n",
       "    {'author_name': 'Jennifer Greene',\n",
       "     'author_url': '/en-ru/author/jennifer-greene/67758/'}],\n",
       "   'num_authors': 2,\n",
       "   'series': ' Series',\n",
       "   'series_number': '',\n",
       "   'has_series': False,\n",
       "   'series_url': '',\n",
       "   'publisher': \"O'Reilly Media\",\n",
       "   'publication_year': '2020',\n",
       "   'price': 'US$20.59',\n",
       "   'desktop_short_description': 'What will you learn from this book?   Dive into C# and create apps, user interfaces, games, and more using this fun and highly visual introduction to C#, .NET Core, and Visual Studio. With this completely updated guide, which covers C# 8.0 and Visual Studio 2019, beginning programmers like you will build a fully functional game in the opening...',\n",
       "   'mobile_short_description': 'What will you learn from this book?   Dive into C# and create apps, user interfaces, games, and more...',\n",
       "   'is_preorder': False,\n",
       "   'is_available': True,\n",
       "   'preorder_url': '/account/preorder/?bookId=210180129',\n",
       "   'add_to_cart_url': '/cart/add/210180129/',\n",
       "   'currency_symbol': 'US$',\n",
       "   'price_number': 20.59480128,\n",
       "   'on_sale_date': '2020-12-04T00:00:00'},\n",
       "  {'id': 210022717,\n",
       "   'book_url': '/en-ru/book/210022717/javascript-the-definitive-guide/david-flanagan/',\n",
       "   'image_url': 'https://image.ebooks.com/previews/210/210022/210022717/210022717-sml-1.jpg',\n",
       "   'image_alt_tag': 'JavaScript: The Definitive Guide: Master the World&#x27;s Most-Used Programming Language',\n",
       "   'title': 'JavaScript: The Definitive Guide',\n",
       "   'edition': ' (7th ed.)',\n",
       "   'subtitle': \"Master the World's Most-Used Programming Language\",\n",
       "   'authors': [{'author_name': 'David Flanagan',\n",
       "     'author_url': '/en-ru/author/david-flanagan/182846/'}],\n",
       "   'num_authors': 1,\n",
       "   'series': ' Series',\n",
       "   'series_number': '',\n",
       "   'has_series': False,\n",
       "   'series_url': '',\n",
       "   'publisher': \"O'Reilly Media\",\n",
       "   'publication_year': '2020',\n",
       "   'price': 'US$22.40',\n",
       "   'desktop_short_description': 'For web developers and other programmers interested in using JavaScript, this bestselling book provides the most comprehensive JavaScript material on the market. The seventh edition represents a significant update, with new information for ECMAScript 2020, and new chapters on language-specific features.   JavaScript: The Definitive Guide  is ideal...',\n",
       "   'mobile_short_description': 'For web developers and other programmers interested in using JavaScript, this bestselling book...',\n",
       "   'is_preorder': False,\n",
       "   'is_available': True,\n",
       "   'preorder_url': '/account/preorder/?bookId=210022717',\n",
       "   'add_to_cart_url': '/cart/add/210022717/',\n",
       "   'currency_symbol': 'US$',\n",
       "   'price_number': 22.40152128,\n",
       "   'on_sale_date': '2020-05-15T00:00:00'},\n",
       "  {'id': 95836888,\n",
       "   'book_url': '/en-ru/book/95836888/test-driven-development-with-python/harry-percival/',\n",
       "   'image_url': 'https://image.ebooks.com/previews/095/095836/095836888/095836888-sml-1.jpg',\n",
       "   'image_alt_tag': 'Test-Driven Development with Python: Obey the Testing Goat: Using Django, Selenium, and JavaScript',\n",
       "   'title': 'Test-Driven Development with Python',\n",
       "   'edition': ' (2nd ed.)',\n",
       "   'subtitle': 'Obey the Testing Goat: Using Django, Selenium, and JavaScript',\n",
       "   'authors': [{'author_name': 'Harry Percival',\n",
       "     'author_url': '/en-ru/author/harry-percival/208223117/'}],\n",
       "   'num_authors': 1,\n",
       "   'series': ' Series',\n",
       "   'series_number': '',\n",
       "   'has_series': False,\n",
       "   'series_url': '',\n",
       "   'publisher': \"O'Reilly Media\",\n",
       "   'publication_year': '2017',\n",
       "   'price': 'US$17.16',\n",
       "   'desktop_short_description': 'By taking you through the development of a real web application from beginning to end, the second edition of this hands-on guide demonstrates the practical advantages of test-driven development (TDD) with Python. You’ll learn how to write and run tests  before  building each part of your app, and then develop the minimum amount of code required to...',\n",
       "   'mobile_short_description': 'By taking you through the development of a real web application from beginning to end, the second...',\n",
       "   'is_preorder': False,\n",
       "   'is_available': True,\n",
       "   'preorder_url': '/account/preorder/?bookId=95836888',\n",
       "   'add_to_cart_url': '/cart/add/95836888/',\n",
       "   'currency_symbol': 'US$',\n",
       "   'price_number': 17.16203328,\n",
       "   'on_sale_date': '2017-08-02T00:00:00'}],\n",
       " 'pages': [{'number': '1',\n",
       "   'is_selected': True,\n",
       "   'show_mobile': True,\n",
       "   'show_tablet': True,\n",
       "   'search_url': '/en-ru/subjects/computers/?ResultOrder=Popularity'},\n",
       "  {'number': '2',\n",
       "   'is_selected': False,\n",
       "   'show_mobile': True,\n",
       "   'show_tablet': True,\n",
       "   'search_url': '/en-ru/subjects/computers/?ResultOrder=Popularity&pageNumber=2'},\n",
       "  {'number': '3',\n",
       "   'is_selected': False,\n",
       "   'show_mobile': True,\n",
       "   'show_tablet': True,\n",
       "   'search_url': '/en-ru/subjects/computers/?ResultOrder=Popularity&pageNumber=3'},\n",
       "  {'number': '4',\n",
       "   'is_selected': False,\n",
       "   'show_mobile': True,\n",
       "   'show_tablet': True,\n",
       "   'search_url': '/en-ru/subjects/computers/?ResultOrder=Popularity&pageNumber=4'},\n",
       "  {'number': '5',\n",
       "   'is_selected': False,\n",
       "   'show_mobile': True,\n",
       "   'show_tablet': True,\n",
       "   'search_url': '/en-ru/subjects/computers/?ResultOrder=Popularity&pageNumber=5'},\n",
       "  {'number': '6',\n",
       "   'is_selected': False,\n",
       "   'show_mobile': False,\n",
       "   'show_tablet': True,\n",
       "   'search_url': '/en-ru/subjects/computers/?ResultOrder=Popularity&pageNumber=6'},\n",
       "  {'number': '7',\n",
       "   'is_selected': False,\n",
       "   'show_mobile': False,\n",
       "   'show_tablet': True,\n",
       "   'search_url': '/en-ru/subjects/computers/?ResultOrder=Popularity&pageNumber=7'},\n",
       "  {'number': '8',\n",
       "   'is_selected': False,\n",
       "   'show_mobile': False,\n",
       "   'show_tablet': True,\n",
       "   'search_url': '/en-ru/subjects/computers/?ResultOrder=Popularity&pageNumber=8'},\n",
       "  {'number': '9',\n",
       "   'is_selected': False,\n",
       "   'show_mobile': False,\n",
       "   'show_tablet': False,\n",
       "   'search_url': '/en-ru/subjects/computers/?ResultOrder=Popularity&pageNumber=9'}],\n",
       " 'previous_page': None,\n",
       " 'next_page': '/en-ru/subjects/computers/?ResultOrder=Popularity&pageNumber=2'}"
      ]
     },
     "execution_count": 4,
     "metadata": {},
     "output_type": "execute_result"
    }
   ],
   "source": [
    "response.json()"
   ]
  },
  {
   "cell_type": "code",
   "execution_count": 5,
   "metadata": {},
   "outputs": [
    {
     "data": {
      "text/plain": [
       "dict"
      ]
     },
     "execution_count": 5,
     "metadata": {},
     "output_type": "execute_result"
    }
   ],
   "source": [
    "type(response.json())"
   ]
  },
  {
   "cell_type": "markdown",
   "metadata": {},
   "source": [
    "##### Step 5 - Output Keys"
   ]
  },
  {
   "cell_type": "code",
   "execution_count": 6,
   "metadata": {},
   "outputs": [
    {
     "data": {
      "text/plain": [
       "dict_keys(['search_term', 'start_record', 'total_results', 'books', 'pages', 'previous_page', 'next_page'])"
      ]
     },
     "execution_count": 6,
     "metadata": {},
     "output_type": "execute_result"
    }
   ],
   "source": [
    "response.json().keys()"
   ]
  },
  {
   "cell_type": "markdown",
   "metadata": {},
   "source": [
    "##### Step 6 - Find your Data"
   ]
  },
  {
   "cell_type": "code",
   "execution_count": 7,
   "metadata": {},
   "outputs": [],
   "source": [
    "# title\n",
    "# subtitle\n",
    "# author\n",
    "# publisher\n",
    "# publication date\n",
    "# price"
   ]
  },
  {
   "cell_type": "code",
   "execution_count": 8,
   "metadata": {},
   "outputs": [
    {
     "data": {
      "text/plain": [
       "[{'id': 95729334,\n",
       "  'book_url': '/en-ru/book/95729334/designing-data-intensive-applications/martin-kleppmann/',\n",
       "  'image_url': 'https://image.ebooks.com/previews/095/095729/095729334/095729334-sml-1.jpg',\n",
       "  'image_alt_tag': 'Designing Data-Intensive Applications: The Big Ideas Behind Reliable, Scalable, and Maintainable Systems',\n",
       "  'title': 'Designing Data-Intensive Applications',\n",
       "  'edition': '',\n",
       "  'subtitle': 'The Big Ideas Behind Reliable, Scalable, and Maintainable Systems',\n",
       "  'authors': [{'author_name': 'Martin Kleppmann',\n",
       "    'author_url': '/en-ru/author/martin-kleppmann/1321307/'}],\n",
       "  'num_authors': 1,\n",
       "  'series': ' Series',\n",
       "  'series_number': '',\n",
       "  'has_series': False,\n",
       "  'series_url': '',\n",
       "  'publisher': \"O'Reilly Media\",\n",
       "  'publication_year': '2017',\n",
       "  'price': 'US$14.99',\n",
       "  'desktop_short_description': 'Data is at the center of many challenges in system design today. Difficult issues need to be figured out, such as scalability, consistency, reliability, efficiency, and maintainability. In addition, we have an overwhelming variety of tools, including relational databases, NoSQL datastores, stream or batch processors, and message brokers. What are...',\n",
       "  'mobile_short_description': 'Data is at the center of many challenges in system design today. Difficult issues need to be figured...',\n",
       "  'is_preorder': False,\n",
       "  'is_available': True,\n",
       "  'preorder_url': '/account/preorder/?bookId=95729334',\n",
       "  'add_to_cart_url': '/cart/add/95729334/',\n",
       "  'currency_symbol': 'US$',\n",
       "  'price_number': 14.99396928,\n",
       "  'on_sale_date': '2017-03-16T00:00:00'},\n",
       " {'id': 210313783,\n",
       "  'book_url': '/en-ru/book/210313783/programming-rust/jim-blandy/',\n",
       "  'image_url': 'https://image.ebooks.com/previews/210/210313/210313783/210313783-sml-1.jpg',\n",
       "  'image_alt_tag': 'Programming Rust',\n",
       "  'title': 'Programming Rust',\n",
       "  'edition': ' (2nd ed.)',\n",
       "  'subtitle': '',\n",
       "  'authors': [{'author_name': 'Jim Blandy',\n",
       "    'author_url': '/en-ru/author/jim-blandy/94214791/'},\n",
       "   {'author_name': 'Jason Orendorff',\n",
       "    'author_url': '/en-ru/author/jason-orendorff/94214792/'}],\n",
       "  'num_authors': 3,\n",
       "  'series': ' Series',\n",
       "  'series_number': '',\n",
       "  'has_series': False,\n",
       "  'series_url': '',\n",
       "  'publisher': \"O'Reilly Media\",\n",
       "  'publication_year': '2021',\n",
       "  'price': 'US$22.40',\n",
       "  'desktop_short_description': \"Systems programming provides the foundation for the world's computation. Writing performance-sensitive code requires a programming language that puts programmers in control of how memory, processor time, and other system resources are used. The Rust systems programming language combines that control with a modern type system that catches broad...\",\n",
       "  'mobile_short_description': \"Systems programming provides the foundation for the world's computation. Writing...\",\n",
       "  'is_preorder': False,\n",
       "  'is_available': True,\n",
       "  'preorder_url': '/account/preorder/?bookId=210313783',\n",
       "  'add_to_cart_url': '/cart/add/210313783/',\n",
       "  'currency_symbol': 'US$',\n",
       "  'price_number': 22.40152128,\n",
       "  'on_sale_date': '2021-06-11T00:00:00'},\n",
       " {'id': 95871448,\n",
       "  'book_url': '/en-ru/book/95871448/python-for-data-analysis/wes-mckinney/',\n",
       "  'image_url': 'https://image.ebooks.com/previews/095/095871/095871448/095871448-sml-1.jpg',\n",
       "  'image_alt_tag': 'Python for Data Analysis: Data Wrangling with Pandas, NumPy, and IPython',\n",
       "  'title': 'Python for Data Analysis',\n",
       "  'edition': ' (2nd ed.)',\n",
       "  'subtitle': 'Data Wrangling with Pandas, NumPy, and IPython',\n",
       "  'authors': [{'author_name': 'Wes McKinney',\n",
       "    'author_url': '/en-ru/author/wes-mckinney/513179/'}],\n",
       "  'num_authors': 1,\n",
       "  'series': ' Series',\n",
       "  'series_number': '',\n",
       "  'has_series': False,\n",
       "  'series_url': '',\n",
       "  'publisher': \"O'Reilly Media\",\n",
       "  'publication_year': '2017',\n",
       "  'price': 'US$18.79',\n",
       "  'desktop_short_description': 'Get complete instructions for manipulating, processing, cleaning, and crunching datasets in Python. Updated for Python 3.6, the second edition of this hands-on guide is packed with practical case studies that show you how to solve a broad set of data analysis problems effectively. You’ll learn the latest versions of pandas, NumPy, IPython, and...',\n",
       "  'mobile_short_description': 'Get complete instructions for manipulating, processing, cleaning, and crunching datasets in Python....',\n",
       "  'is_preorder': False,\n",
       "  'is_available': True,\n",
       "  'preorder_url': '/account/preorder/?bookId=95871448',\n",
       "  'add_to_cart_url': '/cart/add/95871448/',\n",
       "  'currency_symbol': 'US$',\n",
       "  'price_number': 18.78808128,\n",
       "  'on_sale_date': '2017-09-25T00:00:00'},\n",
       " {'id': 209820951,\n",
       "  'book_url': '/en-ru/book/209820951/effective-typescript/dan-vanderkam/',\n",
       "  'image_url': 'https://image.ebooks.com/previews/209/209820/209820951/209820951-sml-1.jpg',\n",
       "  'image_alt_tag': 'Effective TypeScript: 62 Specific Ways to Improve Your TypeScript',\n",
       "  'title': 'Effective TypeScript',\n",
       "  'edition': '',\n",
       "  'subtitle': '62 Specific Ways to Improve Your TypeScript',\n",
       "  'authors': [{'author_name': 'Dan Vanderkam',\n",
       "    'author_url': '/en-ru/author/dan-vanderkam/208299957/'}],\n",
       "  'num_authors': 1,\n",
       "  'series': ' Series',\n",
       "  'series_number': '',\n",
       "  'has_series': False,\n",
       "  'series_url': '',\n",
       "  'publisher': \"O'Reilly Media\",\n",
       "  'publication_year': '2019',\n",
       "  'price': 'US$14.99',\n",
       "  'desktop_short_description': 'TypeScript is a typed superset of JavaScript with the potential to solve many of the headaches for which JavaScript is famous. But TypeScript has a learning curve of its own, and understanding how to use it effectively can take time. This book guides you through 62 specific ways to improve your use of TypeScript.  Author Dan Vanderkam, a principal...',\n",
       "  'mobile_short_description': 'TypeScript is a typed superset of JavaScript with the potential to solve many of the headaches for...',\n",
       "  'is_preorder': False,\n",
       "  'is_available': True,\n",
       "  'preorder_url': '/account/preorder/?bookId=209820951',\n",
       "  'add_to_cart_url': '/cart/add/209820951/',\n",
       "  'currency_symbol': 'US$',\n",
       "  'price_number': 14.99396928,\n",
       "  'on_sale_date': '2019-10-17T00:00:00'},\n",
       " {'id': 209784911,\n",
       "  'book_url': '/en-ru/book/209784911/database-internals/alex-petrov/',\n",
       "  'image_url': 'https://image.ebooks.com/previews/209/209784/209784911/209784911-sml-1.jpg',\n",
       "  'image_alt_tag': 'Database Internals: A Deep Dive into How Distributed Data Systems Work',\n",
       "  'title': 'Database Internals',\n",
       "  'edition': '',\n",
       "  'subtitle': 'A Deep Dive into How Distributed Data Systems Work',\n",
       "  'authors': [{'author_name': 'Alex Petrov',\n",
       "    'author_url': '/en-ru/author/alex-petrov/208283562/'}],\n",
       "  'num_authors': 1,\n",
       "  'series': ' Series',\n",
       "  'series_number': '',\n",
       "  'has_series': False,\n",
       "  'series_url': '',\n",
       "  'publisher': \"O'Reilly Media\",\n",
       "  'publication_year': '2019',\n",
       "  'price': 'US$22.40',\n",
       "  'desktop_short_description': 'When it comes to choosing, using, and maintaining a database, understanding its internals is essential. But with so many distributed databases and tools available today, it’s often difficult to understand what each one offers and how they differ. With this practical guide, Alex Petrov guides developers through the concepts behind modern database...',\n",
       "  'mobile_short_description': 'When it comes to choosing, using, and maintaining a database, understanding its internals is...',\n",
       "  'is_preorder': False,\n",
       "  'is_available': True,\n",
       "  'preorder_url': '/account/preorder/?bookId=209784911',\n",
       "  'add_to_cart_url': '/cart/add/209784911/',\n",
       "  'currency_symbol': 'US$',\n",
       "  'price_number': 22.40152128,\n",
       "  'on_sale_date': '2019-09-13T00:00:00'},\n",
       " {'id': 210338899,\n",
       "  'book_url': '/en-ru/book/210338899/building-microservices/sam-newman/',\n",
       "  'image_url': 'https://image.ebooks.com/previews/210/210338/210338899/210338899-sml-1.jpg',\n",
       "  'image_alt_tag': 'Building Microservices',\n",
       "  'title': 'Building Microservices',\n",
       "  'edition': ' (2nd ed.)',\n",
       "  'subtitle': '',\n",
       "  'authors': [{'author_name': 'Sam Newman',\n",
       "    'author_url': '/en-ru/author/sam-newman/748359/'}],\n",
       "  'num_authors': 1,\n",
       "  'series': ' Series',\n",
       "  'series_number': '',\n",
       "  'has_series': False,\n",
       "  'series_url': '',\n",
       "  'publisher': \"O'Reilly Media\",\n",
       "  'publication_year': '2021',\n",
       "  'price': 'US$22.40',\n",
       "  'desktop_short_description': 'As organizations shift from monolithic applications to smaller, self-contained microservices, distributed systems have become more fine-grained. But developing these new systems brings its own host of problems. This expanded second edition takes a holistic view of topics that you need to consider when building, managing, and scaling microservices...',\n",
       "  'mobile_short_description': 'As organizations shift from monolithic applications to smaller, self-contained microservices,...',\n",
       "  'is_preorder': False,\n",
       "  'is_available': True,\n",
       "  'preorder_url': '/account/preorder/?bookId=210338899',\n",
       "  'add_to_cart_url': '/cart/add/210338899/',\n",
       "  'currency_symbol': 'US$',\n",
       "  'price_number': 22.40152128,\n",
       "  'on_sale_date': '2021-07-24T00:00:00'},\n",
       " {'id': 210239573,\n",
       "  'book_url': '/en-ru/book/210239573/python-for-excel/felix-zumstein/',\n",
       "  'image_url': 'https://image.ebooks.com/previews/210/210239/210239573/210239573-sml-1.jpg',\n",
       "  'image_alt_tag': 'Python for Excel',\n",
       "  'title': 'Python for Excel',\n",
       "  'edition': '',\n",
       "  'subtitle': '',\n",
       "  'authors': [{'author_name': 'Felix Zumstein',\n",
       "    'author_url': '/en-ru/author/felix-zumstein/208533140/'}],\n",
       "  'num_authors': 1,\n",
       "  'series': ' Series',\n",
       "  'series_number': '',\n",
       "  'has_series': False,\n",
       "  'series_url': '',\n",
       "  'publisher': \"O'Reilly Media\",\n",
       "  'publication_year': '2021',\n",
       "  'price': 'US$22.40',\n",
       "  'desktop_short_description': \"While Excel remains ubiquitous in the business world, recent Microsoft feedback forums are full of requests to include Python as an Excel scripting language. In fact, it's the top feature requested. What makes this combination so compelling? In this hands-on guide, Felix Zumstein--creator of xlwings, a popular open source package for automating...\",\n",
       "  'mobile_short_description': 'While Excel remains ubiquitous in the business world, recent Microsoft feedback forums are full of...',\n",
       "  'is_preorder': False,\n",
       "  'is_available': True,\n",
       "  'preorder_url': '/account/preorder/?bookId=210239573',\n",
       "  'add_to_cart_url': '/cart/add/210239573/',\n",
       "  'currency_symbol': 'US$',\n",
       "  'price_number': 22.40152128,\n",
       "  'on_sale_date': '2021-03-04T00:00:00'},\n",
       " {'id': 210180129,\n",
       "  'book_url': '/en-ru/book/210180129/head-first-c/andrew-stellman/',\n",
       "  'image_url': 'https://image.ebooks.com/previews/210/210180/210180129/210180129-sml-1.jpg',\n",
       "  'image_alt_tag': 'Head First C#',\n",
       "  'title': 'Head First C#',\n",
       "  'edition': ' (4th ed.)',\n",
       "  'subtitle': '',\n",
       "  'authors': [{'author_name': 'Andrew Stellman',\n",
       "    'author_url': '/en-ru/author/andrew-stellman/182816/'},\n",
       "   {'author_name': 'Jennifer Greene',\n",
       "    'author_url': '/en-ru/author/jennifer-greene/67758/'}],\n",
       "  'num_authors': 2,\n",
       "  'series': ' Series',\n",
       "  'series_number': '',\n",
       "  'has_series': False,\n",
       "  'series_url': '',\n",
       "  'publisher': \"O'Reilly Media\",\n",
       "  'publication_year': '2020',\n",
       "  'price': 'US$20.59',\n",
       "  'desktop_short_description': 'What will you learn from this book?   Dive into C# and create apps, user interfaces, games, and more using this fun and highly visual introduction to C#, .NET Core, and Visual Studio. With this completely updated guide, which covers C# 8.0 and Visual Studio 2019, beginning programmers like you will build a fully functional game in the opening...',\n",
       "  'mobile_short_description': 'What will you learn from this book?   Dive into C# and create apps, user interfaces, games, and more...',\n",
       "  'is_preorder': False,\n",
       "  'is_available': True,\n",
       "  'preorder_url': '/account/preorder/?bookId=210180129',\n",
       "  'add_to_cart_url': '/cart/add/210180129/',\n",
       "  'currency_symbol': 'US$',\n",
       "  'price_number': 20.59480128,\n",
       "  'on_sale_date': '2020-12-04T00:00:00'},\n",
       " {'id': 210022717,\n",
       "  'book_url': '/en-ru/book/210022717/javascript-the-definitive-guide/david-flanagan/',\n",
       "  'image_url': 'https://image.ebooks.com/previews/210/210022/210022717/210022717-sml-1.jpg',\n",
       "  'image_alt_tag': 'JavaScript: The Definitive Guide: Master the World&#x27;s Most-Used Programming Language',\n",
       "  'title': 'JavaScript: The Definitive Guide',\n",
       "  'edition': ' (7th ed.)',\n",
       "  'subtitle': \"Master the World's Most-Used Programming Language\",\n",
       "  'authors': [{'author_name': 'David Flanagan',\n",
       "    'author_url': '/en-ru/author/david-flanagan/182846/'}],\n",
       "  'num_authors': 1,\n",
       "  'series': ' Series',\n",
       "  'series_number': '',\n",
       "  'has_series': False,\n",
       "  'series_url': '',\n",
       "  'publisher': \"O'Reilly Media\",\n",
       "  'publication_year': '2020',\n",
       "  'price': 'US$22.40',\n",
       "  'desktop_short_description': 'For web developers and other programmers interested in using JavaScript, this bestselling book provides the most comprehensive JavaScript material on the market. The seventh edition represents a significant update, with new information for ECMAScript 2020, and new chapters on language-specific features.   JavaScript: The Definitive Guide  is ideal...',\n",
       "  'mobile_short_description': 'For web developers and other programmers interested in using JavaScript, this bestselling book...',\n",
       "  'is_preorder': False,\n",
       "  'is_available': True,\n",
       "  'preorder_url': '/account/preorder/?bookId=210022717',\n",
       "  'add_to_cart_url': '/cart/add/210022717/',\n",
       "  'currency_symbol': 'US$',\n",
       "  'price_number': 22.40152128,\n",
       "  'on_sale_date': '2020-05-15T00:00:00'},\n",
       " {'id': 95836888,\n",
       "  'book_url': '/en-ru/book/95836888/test-driven-development-with-python/harry-percival/',\n",
       "  'image_url': 'https://image.ebooks.com/previews/095/095836/095836888/095836888-sml-1.jpg',\n",
       "  'image_alt_tag': 'Test-Driven Development with Python: Obey the Testing Goat: Using Django, Selenium, and JavaScript',\n",
       "  'title': 'Test-Driven Development with Python',\n",
       "  'edition': ' (2nd ed.)',\n",
       "  'subtitle': 'Obey the Testing Goat: Using Django, Selenium, and JavaScript',\n",
       "  'authors': [{'author_name': 'Harry Percival',\n",
       "    'author_url': '/en-ru/author/harry-percival/208223117/'}],\n",
       "  'num_authors': 1,\n",
       "  'series': ' Series',\n",
       "  'series_number': '',\n",
       "  'has_series': False,\n",
       "  'series_url': '',\n",
       "  'publisher': \"O'Reilly Media\",\n",
       "  'publication_year': '2017',\n",
       "  'price': 'US$17.16',\n",
       "  'desktop_short_description': 'By taking you through the development of a real web application from beginning to end, the second edition of this hands-on guide demonstrates the practical advantages of test-driven development (TDD) with Python. You’ll learn how to write and run tests  before  building each part of your app, and then develop the minimum amount of code required to...',\n",
       "  'mobile_short_description': 'By taking you through the development of a real web application from beginning to end, the second...',\n",
       "  'is_preorder': False,\n",
       "  'is_available': True,\n",
       "  'preorder_url': '/account/preorder/?bookId=95836888',\n",
       "  'add_to_cart_url': '/cart/add/95836888/',\n",
       "  'currency_symbol': 'US$',\n",
       "  'price_number': 17.16203328,\n",
       "  'on_sale_date': '2017-08-02T00:00:00'}]"
      ]
     },
     "execution_count": 8,
     "metadata": {},
     "output_type": "execute_result"
    }
   ],
   "source": [
    "response.json()['books']"
   ]
  },
  {
   "cell_type": "code",
   "execution_count": 9,
   "metadata": {},
   "outputs": [
    {
     "data": {
      "text/plain": [
       "10"
      ]
     },
     "execution_count": 9,
     "metadata": {},
     "output_type": "execute_result"
    }
   ],
   "source": [
    "len(response.json()['books'])"
   ]
  },
  {
   "cell_type": "code",
   "execution_count": 10,
   "metadata": {},
   "outputs": [],
   "source": [
    "results_json = response.json()['books']"
   ]
  },
  {
   "cell_type": "code",
   "execution_count": 11,
   "metadata": {},
   "outputs": [
    {
     "data": {
      "text/plain": [
       "'Designing Data-Intensive Applications'"
      ]
     },
     "execution_count": 11,
     "metadata": {},
     "output_type": "execute_result"
    }
   ],
   "source": [
    "# title\n",
    "results_json[0]['title']"
   ]
  },
  {
   "cell_type": "code",
   "execution_count": 12,
   "metadata": {},
   "outputs": [
    {
     "data": {
      "text/plain": [
       "'The Big Ideas Behind Reliable, Scalable, and Maintainable Systems'"
      ]
     },
     "execution_count": 12,
     "metadata": {},
     "output_type": "execute_result"
    }
   ],
   "source": [
    "# subtitle\n",
    "results_json[0]['subtitle']"
   ]
  },
  {
   "cell_type": "code",
   "execution_count": 13,
   "metadata": {},
   "outputs": [
    {
     "data": {
      "text/plain": [
       "'Martin Kleppmann'"
      ]
     },
     "execution_count": 13,
     "metadata": {},
     "output_type": "execute_result"
    }
   ],
   "source": [
    "# author\n",
    "results_json[0]['authors'][0]['author_name']"
   ]
  },
  {
   "cell_type": "code",
   "execution_count": 14,
   "metadata": {},
   "outputs": [
    {
     "data": {
      "text/plain": [
       "\"O'Reilly Media\""
      ]
     },
     "execution_count": 14,
     "metadata": {},
     "output_type": "execute_result"
    }
   ],
   "source": [
    "# publisher\n",
    "results_json[0]['publisher']"
   ]
  },
  {
   "cell_type": "code",
   "execution_count": 15,
   "metadata": {},
   "outputs": [
    {
     "data": {
      "text/plain": [
       "'2017'"
      ]
     },
     "execution_count": 15,
     "metadata": {},
     "output_type": "execute_result"
    }
   ],
   "source": [
    "# publication year\n",
    "results_json[0]['publication_year']"
   ]
  },
  {
   "cell_type": "code",
   "execution_count": 16,
   "metadata": {},
   "outputs": [
    {
     "data": {
      "text/plain": [
       "'US$14.99'"
      ]
     },
     "execution_count": 16,
     "metadata": {},
     "output_type": "execute_result"
    }
   ],
   "source": [
    "# price\n",
    "results_json[0]['price']"
   ]
  },
  {
   "cell_type": "markdown",
   "metadata": {},
   "source": [
    "##### Step 7 - Put everything together - Loop through results and append data inside a list"
   ]
  },
  {
   "cell_type": "markdown",
   "metadata": {},
   "source": []
  }
 ],
 "metadata": {
  "interpreter": {
   "hash": "733c58643b47138ee22a0802325ad1da92081431a347b10a49a4d5cc8159d2c8"
  },
  "kernelspec": {
   "display_name": "Python 3.9.7 64-bit",
   "language": "python",
   "name": "python3"
  },
  "language_info": {
   "codemirror_mode": {
    "name": "ipython",
    "version": 3
   },
   "file_extension": ".py",
   "mimetype": "text/x-python",
   "name": "python",
   "nbconvert_exporter": "python",
   "pygments_lexer": "ipython3",
   "version": "3.9.5"
  },
  "orig_nbformat": 4
 },
 "nbformat": 4,
 "nbformat_minor": 2
}
